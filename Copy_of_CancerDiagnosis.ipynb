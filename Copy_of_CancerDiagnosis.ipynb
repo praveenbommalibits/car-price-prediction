{
  "nbformat": 4,
  "nbformat_minor": 0,
  "metadata": {
    "colab": {
      "name": "Copy of CancerDiagnosis.ipynb",
      "provenance": [],
      "collapsed_sections": [],
      "authorship_tag": "ABX9TyO3H/9gUeUMxFJt6oP71C7F",
      "include_colab_link": true
    },
    "kernelspec": {
      "name": "python3",
      "display_name": "Python 3"
    },
    "language_info": {
      "name": "python"
    }
  },
  "cells": [
    {
      "cell_type": "markdown",
      "metadata": {
        "id": "view-in-github",
        "colab_type": "text"
      },
      "source": [
        "<a href=\"https://colab.research.google.com/github/praveenbommalibits/car-price-prediction/blob/master/Copy_of_CancerDiagnosis.ipynb\" target=\"_parent\"><img src=\"https://colab.research.google.com/assets/colab-badge.svg\" alt=\"Open In Colab\"/></a>"
      ]
    },
    {
      "cell_type": "markdown",
      "metadata": {
        "id": "qTsuuqRXLkFz"
      },
      "source": [
        "<h1> <center> Cancer Diagnosis </center> </h1>\n",
        "\n"
      ]
    },
    {
      "cell_type": "markdown",
      "metadata": {
        "id": "aOh62aLNNMtG"
      },
      "source": [
        "<p> Business Problem </p>\n",
        " <pre> Classify the given genetic variations/mutations based on evidence from text-based clinical literature </pre>\n",
        "\n",
        " <p> Business Objective & Constraints </p> \n",
        " <pre> \n",
        " 1. Low latency requirements\n",
        " 2. Interpretability is important\n",
        " 3. Errors are very costly\n",
        " 4. Probability of a data-points belonging to each class is needed\n",
        " </pre>\n",
        "\n",
        "<p> Machine Learning Problem Formulation </p>\n"
      ]
    },
    {
      "cell_type": "code",
      "metadata": {
        "colab": {
          "base_uri": "https://localhost:8080/"
        },
        "id": "Tbt2mzyXVE2o",
        "outputId": "4ee425fc-b4c8-42b7-8f0b-4171f59e4bff"
      },
      "source": [
        "# Upload kaggle key and setup to download the kaggle datasets  \n",
        "#! pip install -q kaggle --upgrade\n",
        "!pip install --upgrade --force-reinstall --no-deps kaggle\n",
        "#from google.colab import files\n",
        "#files.upload()\n",
        "#rm ~/.kaggle\n",
        "#! mkdir ~/.kaggle\n",
        "#! cp kaggle.json ~/.kaggle/\n",
        "#! chmod 600 ~/.kaggle/kaggle.json\n",
        "#! kaggle datasets list"
      ],
      "execution_count": null,
      "outputs": [
        {
          "output_type": "stream",
          "text": [
            "Collecting kaggle\n",
            "  Downloading kaggle-1.5.12.tar.gz (58 kB)\n",
            "\u001b[?25l\r\u001b[K     |█████▋                          | 10 kB 25.8 MB/s eta 0:00:01\r\u001b[K     |███████████▏                    | 20 kB 30.3 MB/s eta 0:00:01\r\u001b[K     |████████████████▊               | 30 kB 34.6 MB/s eta 0:00:01\r\u001b[K     |██████████████████████▎         | 40 kB 37.3 MB/s eta 0:00:01\r\u001b[K     |███████████████████████████▉    | 51 kB 39.2 MB/s eta 0:00:01\r\u001b[K     |████████████████████████████████| 58 kB 5.7 MB/s \n",
            "\u001b[?25hBuilding wheels for collected packages: kaggle\n",
            "  Building wheel for kaggle (setup.py) ... \u001b[?25l\u001b[?25hdone\n",
            "  Created wheel for kaggle: filename=kaggle-1.5.12-py3-none-any.whl size=73052 sha256=baf46ec66f1ae0a26ef45fc339c4a1ebde99b13899cf385d6909a00a06d140ac\n",
            "  Stored in directory: /root/.cache/pip/wheels/62/d6/58/5853130f941e75b2177d281eb7e44b4a98ed46dd155f556dc5\n",
            "Successfully built kaggle\n",
            "Installing collected packages: kaggle\n",
            "  Attempting uninstall: kaggle\n",
            "    Found existing installation: kaggle 1.5.12\n",
            "    Uninstalling kaggle-1.5.12:\n",
            "      Successfully uninstalled kaggle-1.5.12\n",
            "Successfully installed kaggle-1.5.12\n"
          ],
          "name": "stdout"
        }
      ]
    },
    {
      "cell_type": "code",
      "metadata": {
        "colab": {
          "base_uri": "https://localhost:8080/"
        },
        "id": "GCuwbPBgM_vZ",
        "outputId": "05e00104-78c9-42a8-cfd5-5628c682af03"
      },
      "source": [
        "\n",
        "# Download the data from Kaggle \n",
        "#from google.colab import drive\n",
        "#drive.mount('/content/drive', force_remount=True)\n",
        "#!cd /content/drive/MyDrive/ml_problems/CancerDiagnosis\n",
        "!kaggle competitions download -c msk-redefining-cancer-treatment\n"
      ],
      "execution_count": null,
      "outputs": [
        {
          "output_type": "stream",
          "text": [
            "403 - Forbidden\n"
          ],
          "name": "stdout"
        }
      ]
    },
    {
      "cell_type": "code",
      "metadata": {
        "id": "1zTwwUaXRwZ1"
      },
      "source": [
        "ls "
      ],
      "execution_count": null,
      "outputs": []
    },
    {
      "cell_type": "code",
      "metadata": {
        "id": "5pDj7kGiXRDn"
      },
      "source": [
        ""
      ],
      "execution_count": null,
      "outputs": []
    }
  ]
}